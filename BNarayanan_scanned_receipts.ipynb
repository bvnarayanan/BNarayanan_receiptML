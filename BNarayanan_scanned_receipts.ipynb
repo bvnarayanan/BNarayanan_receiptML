{
 "cells": [
  {
   "cell_type": "code",
   "execution_count": 1,
   "id": "b112e280",
   "metadata": {},
   "outputs": [
    {
     "name": "stdout",
     "output_type": "stream",
     "text": [
      "Requirement already satisfied: torch in /Users/bnarayanan/anaconda3/lib/python3.10/site-packages (1.12.1)\r\n",
      "Requirement already satisfied: typing_extensions in /Users/bnarayanan/anaconda3/lib/python3.10/site-packages (from torch) (4.4.0)\r\n"
     ]
    },
    {
     "name": "stderr",
     "output_type": "stream",
     "text": [
      "/Users/bnarayanan/anaconda3/lib/python3.10/site-packages/tqdm/auto.py:22: TqdmWarning: IProgress not found. Please update jupyter and ipywidgets. See https://ipywidgets.readthedocs.io/en/stable/user_install.html\n",
      "  from .autonotebook import tqdm as notebook_tqdm\n"
     ]
    }
   ],
   "source": [
    "import pandas as pd\n",
    "import numpy as np\n",
    "!pip install torch\n",
    "import torch\n",
    "import torch.nn as nn\n",
    "import torch.optim as optim\n",
    "from torch.utils.data import DataLoader, TensorDataset\n"
   ]
  },
  {
   "cell_type": "code",
   "execution_count": 2,
   "id": "bf4a6d86",
   "metadata": {
    "scrolled": true
   },
   "outputs": [
    {
     "name": "stdout",
     "output_type": "stream",
     "text": [
      "         Date  Receipt_Count  Month\n",
      "0  2021-01-31      236736687      1\n",
      "1  2021-02-28      220033460      2\n",
      "2  2021-03-31      248608625      3\n",
      "3  2021-04-30      250644830      4\n",
      "4  2021-05-31      263151748      5\n",
      "5  2021-06-30      260656840      6\n",
      "6  2021-07-31      274776003      7\n",
      "7  2021-08-31      283943231      8\n",
      "8  2021-09-30      281146154      9\n",
      "9  2021-10-31      295965185     10\n",
      "10 2021-11-30      296085162     11\n",
      "11 2021-12-31      309948684     12\n"
     ]
    }
   ],
   "source": [
    "\n",
    "\n",
    "data_daily = pd.read_csv('data_daily.csv', parse_dates=['# Date'])\n",
    "data_daily.set_index('# Date', inplace=True)\n",
    "\n",
    "# Resample the data to monthly frequency and sum the receipts for each month\n",
    "monthly_data = data_daily['Receipt_Count'].resample('M').sum()\n",
    "\n",
    "\n",
    "\n",
    "monthly_data.to_csv('monthly_receipts_2021.csv')\n",
    "monthly_data = pd.read_csv('monthly_receipts_2021.csv')\n",
    "monthly_data = monthly_data.rename(columns={'# Date': 'Date'})\n",
    "monthly_data['Date'] = pd.to_datetime(monthly_data['Date'])\n",
    "monthly_data['Month'] = monthly_data['Date'].dt.month\n",
    "print(monthly_data)\n"
   ]
  },
  {
   "cell_type": "code",
   "execution_count": 3,
   "id": "078e5a7e",
   "metadata": {},
   "outputs": [],
   "source": [
    "X = monthly_data['Month'].values\n",
    "y = monthly_data['Receipt_Count'].values"
   ]
  },
  {
   "cell_type": "code",
   "execution_count": 4,
   "id": "8733ba74",
   "metadata": {},
   "outputs": [
    {
     "name": "stdout",
     "output_type": "stream",
     "text": [
      "[1 2 3 4 5 6 7 8 9]\n"
     ]
    }
   ],
   "source": [
    "split_ratio = 0.8\n",
    "\n",
    "split_index = int(len(X) * split_ratio)\n",
    "X_train, y_train = X[:split_index], y[:split_index]\n",
    "X_test, y_test = X[split_index:], y[split_index:]\n",
    "\n",
    "print(X_train)"
   ]
  },
  {
   "cell_type": "code",
   "execution_count": 5,
   "id": "9d2dfc44",
   "metadata": {},
   "outputs": [],
   "source": [
    "class ReceiptPredictionModel(nn.Module):\n",
    "    def __init__(self):\n",
    "        super(ReceiptPredictionModel, self).__init__()\n",
    "        self.fc1 = nn.Linear(1, 100)\n",
    "        self.dropout1 = nn.Dropout(p=0.5)\n",
    "        self.fc2 = nn.Linear(100, 100)\n",
    "        self.dropout2 = nn.Dropout(p=0.5)\n",
    "        self.fc3 = nn.Linear(100, 50)\n",
    "        self.dropout3 = nn.Dropout(p=0.5)\n",
    "        self.fc4 = nn.Linear(50, 1)\n",
    "\n",
    "    def forward(self, x):\n",
    "        x = torch.relu(self.fc1(x))\n",
    "        x = self.dropout1(x)\n",
    "        x = torch.relu(self.fc2(x))\n",
    "        x = self.dropout2(x)\n",
    "        x = torch.relu(self.fc3(x))\n",
    "        x = self.dropout3(x)\n",
    "        x = self.fc4(x)\n",
    "        return x\n",
    "model = ReceiptPredictionModel()"
   ]
  },
  {
   "cell_type": "code",
   "execution_count": 6,
   "id": "e67b644d",
   "metadata": {},
   "outputs": [
    {
     "name": "stdout",
     "output_type": "stream",
     "text": [
      "Epoch [100/1000], Loss: 66827127030284288.0000\n",
      "Epoch [200/1000], Loss: 66819786931175424.0000\n",
      "Epoch [300/1000], Loss: 66782678413737984.0000\n",
      "Epoch [400/1000], Loss: 66640970262773760.0000\n",
      "Epoch [500/1000], Loss: 66288340562870272.0000\n",
      "Epoch [600/1000], Loss: 65779060520779776.0000\n",
      "Epoch [700/1000], Loss: 65087386102530048.0000\n",
      "Epoch [800/1000], Loss: 63737808593879040.0000\n",
      "Epoch [900/1000], Loss: 61427056059088896.0000\n",
      "Epoch [1000/1000], Loss: 59026220880232448.0000\n",
      "Training complete\n",
      "Predictions for 2022: [[21073060.]\n",
      " [44204048.]\n",
      " [24760558.]\n",
      " [31366204.]\n",
      " [70750608.]\n",
      " [44231452.]\n",
      " [60572504.]\n",
      " [49029184.]\n",
      " [30043462.]\n",
      " [49244688.]\n",
      " [51960912.]\n",
      " [90987784.]]\n"
     ]
    }
   ],
   "source": [
    "criterion = nn.MSELoss()\n",
    "weight_decay = 0.001\n",
    "optimizer = optim.Adam(model.parameters(), lr=0.001, weight_decay=weight_decay)\n",
    "\n",
    "num_epochs = 1000\n",
    "\n",
    "for epoch in range(num_epochs):\n",
    "    # Convert data to PyTorch tensors\n",
    "    inputs = torch.Tensor(X_train).view(-1, 1)\n",
    "    labels = torch.Tensor(y_train).view(-1, 1)\n",
    "\n",
    "    # Zero the gradients\n",
    "    optimizer.zero_grad()\n",
    "\n",
    "    # Forward pass\n",
    "    outputs = model(inputs)\n",
    "\n",
    "    # Calculate the loss\n",
    "    loss = criterion(outputs, labels)\n",
    "\n",
    "    # Backpropagation and optimization\n",
    "    loss.backward()\n",
    "    optimizer.step()\n",
    "\n",
    "    if (epoch + 1) % 100 == 0:\n",
    "        print(f'Epoch [{epoch + 1}/{num_epochs}], Loss: {loss.item():.4f}')\n",
    "\n",
    "print('Training complete')\n",
    "\n",
    "# Make predictions for 2022\n",
    "months_2022 = np.arange(13, 25)\n",
    "inputs_2022 = torch.Tensor(months_2022).view(-1, 1)\n",
    "predictions_2022 = model(inputs_2022).detach().numpy()\n",
    "\n",
    "print(\"Predictions for 2022:\", predictions_2022)"
   ]
  },
  {
   "cell_type": "code",
   "execution_count": null,
   "id": "0f9d9a75",
   "metadata": {
    "scrolled": true
   },
   "outputs": [],
   "source": []
  },
  {
   "cell_type": "code",
   "execution_count": null,
   "id": "99c84fb1",
   "metadata": {},
   "outputs": [],
   "source": []
  },
  {
   "cell_type": "code",
   "execution_count": null,
   "id": "c738c586",
   "metadata": {},
   "outputs": [],
   "source": []
  },
  {
   "cell_type": "code",
   "execution_count": null,
   "id": "5f642f16",
   "metadata": {},
   "outputs": [],
   "source": []
  },
  {
   "cell_type": "code",
   "execution_count": null,
   "id": "f69f1b45",
   "metadata": {},
   "outputs": [],
   "source": []
  },
  {
   "cell_type": "code",
   "execution_count": null,
   "id": "36261906",
   "metadata": {},
   "outputs": [],
   "source": []
  }
 ],
 "metadata": {
  "kernelspec": {
   "display_name": "Python 3 (ipykernel)",
   "language": "python",
   "name": "python3"
  },
  "language_info": {
   "codemirror_mode": {
    "name": "ipython",
    "version": 3
   },
   "file_extension": ".py",
   "mimetype": "text/x-python",
   "name": "python",
   "nbconvert_exporter": "python",
   "pygments_lexer": "ipython3",
   "version": "3.10.9"
  }
 },
 "nbformat": 4,
 "nbformat_minor": 5
}
